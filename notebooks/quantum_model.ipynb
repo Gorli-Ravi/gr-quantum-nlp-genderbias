{
 "cells": [
  {
   "cell_type": "code",
   "execution_count": 6,
   "id": "18bdceac-6c40-43c8-addc-f0ee39eb7fb9",
   "metadata": {},
   "outputs": [
    {
     "ename": "ImportError",
     "evalue": "cannot import name 'Aer' from 'qiskit' (/Users/gr/venv/lib/python3.13/site-packages/qiskit/__init__.py)",
     "output_type": "error",
     "traceback": [
      "\u001b[31m---------------------------------------------------------------------------\u001b[39m",
      "\u001b[31mImportError\u001b[39m                               Traceback (most recent call last)",
      "\u001b[36mCell\u001b[39m\u001b[36m \u001b[39m\u001b[32mIn[6]\u001b[39m\u001b[32m, line 10\u001b[39m\n\u001b[32m      7\u001b[39m sys.path.append(project_path)\n\u001b[32m      9\u001b[39m \u001b[38;5;28;01mfrom\u001b[39;00m\u001b[38;5;250m \u001b[39m\u001b[34;01mutils\u001b[39;00m\u001b[34;01m.\u001b[39;00m\u001b[34;01mpreprocessing\u001b[39;00m\u001b[38;5;250m \u001b[39m\u001b[38;5;28;01mimport\u001b[39;00m load_data, vectorize_text\n\u001b[32m---> \u001b[39m\u001b[32m10\u001b[39m \u001b[38;5;28;01mfrom\u001b[39;00m\u001b[38;5;250m \u001b[39m\u001b[34;01mqml\u001b[39;00m\u001b[34;01m.\u001b[39;00m\u001b[34;01mvqc_classifier\u001b[39;00m\u001b[38;5;250m \u001b[39m\u001b[38;5;28;01mimport\u001b[39;00m build_vqc\n\u001b[32m     11\u001b[39m \u001b[38;5;28;01mfrom\u001b[39;00m\u001b[38;5;250m \u001b[39m\u001b[34;01msklearn\u001b[39;00m\u001b[34;01m.\u001b[39;00m\u001b[34;01mmodel_selection\u001b[39;00m\u001b[38;5;250m \u001b[39m\u001b[38;5;28;01mimport\u001b[39;00m train_test_split\n\u001b[32m     12\u001b[39m \u001b[38;5;28;01mfrom\u001b[39;00m\u001b[38;5;250m \u001b[39m\u001b[34;01msklearn\u001b[39;00m\u001b[34;01m.\u001b[39;00m\u001b[34;01mpreprocessing\u001b[39;00m\u001b[38;5;250m \u001b[39m\u001b[38;5;28;01mimport\u001b[39;00m MinMaxScaler\n",
      "\u001b[36mFile \u001b[39m\u001b[32m~/gr-quantum-nlp-genderbias/qml/vqc_classifier.py:2\u001b[39m\n\u001b[32m      1\u001b[39m \u001b[38;5;28;01mimport\u001b[39;00m\u001b[38;5;250m \u001b[39m\u001b[34;01mnumpy\u001b[39;00m\u001b[38;5;250m \u001b[39m\u001b[38;5;28;01mas\u001b[39;00m\u001b[38;5;250m \u001b[39m\u001b[34;01mnp\u001b[39;00m\n\u001b[32m----> \u001b[39m\u001b[32m2\u001b[39m \u001b[38;5;28;01mfrom\u001b[39;00m\u001b[38;5;250m \u001b[39m\u001b[34;01mqiskit\u001b[39;00m\u001b[38;5;250m \u001b[39m\u001b[38;5;28;01mimport\u001b[39;00m Aer\n\u001b[32m      3\u001b[39m \u001b[38;5;28;01mfrom\u001b[39;00m\u001b[38;5;250m \u001b[39m\u001b[34;01mqiskit\u001b[39;00m\u001b[34;01m.\u001b[39;00m\u001b[34;01mcircuit\u001b[39;00m\u001b[34;01m.\u001b[39;00m\u001b[34;01mlibrary\u001b[39;00m\u001b[38;5;250m \u001b[39m\u001b[38;5;28;01mimport\u001b[39;00m ZZFeatureMap, RealAmplitudes\n\u001b[32m      4\u001b[39m \u001b[38;5;28;01mfrom\u001b[39;00m\u001b[38;5;250m \u001b[39m\u001b[34;01mqiskit_machine_learning\u001b[39;00m\u001b[34;01m.\u001b[39;00m\u001b[34;01malgorithms\u001b[39;00m\u001b[38;5;250m \u001b[39m\u001b[38;5;28;01mimport\u001b[39;00m VQC\n",
      "\u001b[31mImportError\u001b[39m: cannot import name 'Aer' from 'qiskit' (/Users/gr/venv/lib/python3.13/site-packages/qiskit/__init__.py)"
     ]
    }
   ],
   "source": [
    "# Cell 1\n",
    "import sys\n",
    "import os\n",
    "\n",
    "# Add the root directory of your project to sys.path\n",
    "project_path = os.path.abspath(\"..\")  # Adjust this if your notebook is deeper\n",
    "sys.path.append(project_path)\n",
    "pip install qiskit-aer\n",
    "from utils.preprocessing import load_data, vectorize_text\n",
    "from qml.vqc_classifier import build_vqc\n",
    "from sklearn.model_selection import train_test_split\n",
    "from sklearn.preprocessing import MinMaxScaler\n",
    "\n",
    "from utils.preprocessing import load_data, vectorize_text\n",
    "from qml.vqc_classifier import build_vqc\n",
    "from sklearn.model_selection import train_test_split\n",
    "from sklearn.preprocessing import MinMaxScaler\n",
    "\n",
    "# Cell 2\n",
    "sentences, labels = load_data(\"data/gendered_sentences.csv\")\n",
    "X = vectorize_text(sentences)\n",
    "X = MinMaxScaler().fit_transform(X)\n",
    "\n",
    "X_train, X_test, y_train, y_test = train_test_split(X, labels, test_size=0.2)\n",
    "\n",
    "# Cell 3\n",
    "build_vqc(X_train, y_train, X_test, y_test)\n"
   ]
  },
  {
   "cell_type": "code",
   "execution_count": 4,
   "id": "8fc88618-f415-4c86-85f2-67b8a1e61152",
   "metadata": {},
   "outputs": [
    {
     "name": "stdout",
     "output_type": "stream",
     "text": [
      "Requirement already satisfied: qiskit-aer in /Users/gr/venv/lib/python3.13/site-packages (0.16.0)\n",
      "Requirement already satisfied: qiskit>=1.1.0 in /Users/gr/venv/lib/python3.13/site-packages (from qiskit-aer) (1.2.4)\n",
      "Requirement already satisfied: numpy>=1.16.3 in /Users/gr/venv/lib/python3.13/site-packages (from qiskit-aer) (2.3.1)\n",
      "Requirement already satisfied: scipy>=1.0 in /Users/gr/venv/lib/python3.13/site-packages (from qiskit-aer) (1.16.0)\n",
      "Requirement already satisfied: psutil>=5 in /Users/gr/venv/lib/python3.13/site-packages (from qiskit-aer) (7.0.0)\n",
      "Requirement already satisfied: rustworkx>=0.15.0 in /Users/gr/venv/lib/python3.13/site-packages (from qiskit>=1.1.0->qiskit-aer) (0.16.0)\n",
      "Requirement already satisfied: sympy>=1.3 in /Users/gr/venv/lib/python3.13/site-packages (from qiskit>=1.1.0->qiskit-aer) (1.12.1)\n",
      "Requirement already satisfied: dill>=0.3 in /Users/gr/venv/lib/python3.13/site-packages (from qiskit>=1.1.0->qiskit-aer) (0.4.0)\n",
      "Requirement already satisfied: python-dateutil>=2.8.0 in /Users/gr/venv/lib/python3.13/site-packages (from qiskit>=1.1.0->qiskit-aer) (2.9.0.post0)\n",
      "Requirement already satisfied: stevedore>=3.0.0 in /Users/gr/venv/lib/python3.13/site-packages (from qiskit>=1.1.0->qiskit-aer) (5.4.1)\n",
      "Requirement already satisfied: typing-extensions in /Users/gr/venv/lib/python3.13/site-packages (from qiskit>=1.1.0->qiskit-aer) (4.14.0)\n",
      "Requirement already satisfied: symengine<0.14,>=0.11 in /Users/gr/venv/lib/python3.13/site-packages (from qiskit>=1.1.0->qiskit-aer) (0.13.0)\n",
      "Requirement already satisfied: six>=1.5 in /Users/gr/venv/lib/python3.13/site-packages (from python-dateutil>=2.8.0->qiskit>=1.1.0->qiskit-aer) (1.17.0)\n",
      "Requirement already satisfied: pbr>=2.0.0 in /Users/gr/venv/lib/python3.13/site-packages (from stevedore>=3.0.0->qiskit>=1.1.0->qiskit-aer) (6.1.1)\n",
      "Requirement already satisfied: setuptools in /Users/gr/venv/lib/python3.13/site-packages (from pbr>=2.0.0->stevedore>=3.0.0->qiskit>=1.1.0->qiskit-aer) (80.9.0)\n",
      "Requirement already satisfied: mpmath<1.4.0,>=1.1.0 in /Users/gr/venv/lib/python3.13/site-packages (from sympy>=1.3->qiskit>=1.1.0->qiskit-aer) (1.3.0)\n",
      "Note: you may need to restart the kernel to use updated packages.\n"
     ]
    }
   ],
   "source": [
    "pip install qiskit-aer"
   ]
  },
  {
   "cell_type": "code",
   "execution_count": null,
   "id": "b122746d-769c-45bc-8749-ac7c56865b8f",
   "metadata": {},
   "outputs": [],
   "source": []
  },
  {
   "cell_type": "code",
   "execution_count": null,
   "id": "6c3a938b-3d96-46fb-828d-3eb3cbfbe632",
   "metadata": {},
   "outputs": [],
   "source": []
  }
 ],
 "metadata": {
  "kernelspec": {
   "display_name": "Python 3 (ipykernel)",
   "language": "python",
   "name": "python3"
  },
  "language_info": {
   "codemirror_mode": {
    "name": "ipython",
    "version": 3
   },
   "file_extension": ".py",
   "mimetype": "text/x-python",
   "name": "python",
   "nbconvert_exporter": "python",
   "pygments_lexer": "ipython3",
   "version": "3.13.2"
  }
 },
 "nbformat": 4,
 "nbformat_minor": 5
}
