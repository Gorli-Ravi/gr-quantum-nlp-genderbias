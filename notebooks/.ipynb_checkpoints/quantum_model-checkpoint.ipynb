{
 "cells": [
  {
   "cell_type": "code",
   "execution_count": null,
   "id": "18bdceac-6c40-43c8-addc-f0ee39eb7fb9",
   "metadata": {},
   "outputs": [],
   "source": [
    "# Cell 1\n",
    "from utils.preprocessing import load_data, vectorize_text\n",
    "from qml.vqc_classifier import build_vqc\n",
    "from sklearn.model_selection import train_test_split\n",
    "from sklearn.preprocessing import MinMaxScaler\n",
    "\n",
    "# Cell 2\n",
    "sentences, labels = load_data(\"data/gendered_sentences.csv\")\n",
    "X = vectorize_text(sentences)\n",
    "X = MinMaxScaler().fit_transform(X)\n",
    "\n",
    "X_train, X_test, y_train, y_test = train_test_split(X, labels, test_size=0.2)\n",
    "\n",
    "# Cell 3\n",
    "build_vqc(X_train, y_train, X_test, y_test)\n"
   ]
  }
 ],
 "metadata": {
  "kernelspec": {
   "display_name": "Python 3 (ipykernel)",
   "language": "python",
   "name": "python3"
  },
  "language_info": {
   "codemirror_mode": {
    "name": "ipython",
    "version": 3
   },
   "file_extension": ".py",
   "mimetype": "text/x-python",
   "name": "python",
   "nbconvert_exporter": "python",
   "pygments_lexer": "ipython3",
   "version": "3.13.2"
  }
 },
 "nbformat": 4,
 "nbformat_minor": 5
}
